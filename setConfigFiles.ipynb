{
 "cells": [
  {
   "cell_type": "code",
   "execution_count": 1,
   "metadata": {},
   "outputs": [],
   "source": [
    "import os\n",
    "import shutil"
   ]
  },
  {
   "cell_type": "code",
   "execution_count": 3,
   "metadata": {},
   "outputs": [],
   "source": [
    "path = '/data/wenhuicui/mydata'\n",
    "trainfiles = os.listdir(path+'/train')"
   ]
  },
  {
   "cell_type": "code",
   "execution_count": 4,
   "metadata": {},
   "outputs": [],
   "source": [
    "move2test = trainfiles[226:]\n",
    "for t in move2test:\n",
    "    shutil.move(path+'/train/'+t, path+'/test/'+t)"
   ]
  },
  {
   "cell_type": "code",
   "execution_count": 6,
   "metadata": {},
   "outputs": [],
   "source": [
    "path = '/data/wenhuicui/mydata'\n",
    "trainfiles = os.listdir(path+'/train')\n",
    "#valfiles = os.listdir(path+'/validation')\n",
    "testfiles = os.listdir(path+'/test')"
   ]
  },
  {
   "cell_type": "code",
   "execution_count": 7,
   "metadata": {},
   "outputs": [
    {
     "data": {
      "text/plain": [
       "(60, 226)"
      ]
     },
     "execution_count": 7,
     "metadata": {},
     "output_type": "execute_result"
    }
   ],
   "source": [
    "len(testfiles), len(trainfiles)"
   ]
  },
  {
   "cell_type": "code",
   "execution_count": 8,
   "metadata": {},
   "outputs": [],
   "source": [
    "def setTDGtLabels(configPath):\n",
    "    allD = os.listdir('wenhuicui/deepmedic-master/examples/mydata/train')\n",
    "    for D in allD:\n",
    "        with open(configPath+'TDtrainGtLabels.cfg', 'a+') as f:\n",
    "            f.writelines('../../../mydata/train/' + D + '/' + D + '_seg.nii.gz' + '\\n')"
   ]
  },
  {
   "cell_type": "code",
   "execution_count": 9,
   "metadata": {},
   "outputs": [],
   "source": [
    "def operations(path, filename, m=\"\"):\n",
    "    with open(path+filename + m + '.cfg', 'r') as f:\n",
    "            contents = f.readlines()\n",
    "    print(len(contents))\n",
    "        \n",
    "    with open(path+\"TD\" + filename + m + \".cfg\", 'w') as f1:\n",
    "        with open(path+ filename + m + '.cfg', 'w') as f2:             \n",
    "            for i in range(len(contents)-1):\n",
    "                if i < 166:\n",
    "                    f1.writelines(contents[i])\n",
    "                else:\n",
    "                    f2.writelines(contents[i])\n",
    "    "
   ]
  },
  {
   "cell_type": "code",
   "execution_count": 10,
   "metadata": {},
   "outputs": [],
   "source": [
    "def setConfigFilesForsemiSupervisedLearning(path):\n",
    "    modalities = ['t1', 't2', 't1c', 'flair']\n",
    "    for m in modalities:\n",
    "        operations(path, 'trainChannels_', m)\n",
    "    operations(path, 'trainRoiMasks', \"\")\n",
    "    operations(path, 'trainGtLabels', \"\")\n",
    "    setTDGtLabels(path)"
   ]
  },
  {
   "cell_type": "code",
   "execution_count": 19,
   "metadata": {},
   "outputs": [],
   "source": [
    "def write2files(path, configPath, files, typename, mode):\n",
    "    for t in files:\n",
    "        if ((typename == 'test') or (typename == 'validation')):\n",
    "            continue\n",
    "            with open(configPath+typename+'NamesOfPredictions.cfg',mode) as f:\n",
    "                if mode != 'w':\n",
    "                    f.writelines('pred_'+t+'.nii.gz'+'\\n')\n",
    "        \n",
    "        #print(t)\n",
    "        modalities = os.listdir(path+'/'+'test'+'/'+t)\n",
    "        for m in modalities:\n",
    "            #print(m)\n",
    "            modnames = ['t1c', 't2', 'flair']\n",
    "            filename = '/data/wenhuicui/mydata/'+'test'+'/'+t+'/'+m+'\\n'\n",
    "            \n",
    "            if typename == 'validation':\n",
    "                filename = '/data/wenhuicui/mydata/'+typename+'/'+t+'/'+m+'\\n'\n",
    "                \n",
    "            for name in modnames:\n",
    "                if name in m:\n",
    "                    with open(configPath+typename+'Channels_'+name+'.cfg',mode) as f:\n",
    "                        if mode != 'w':\n",
    "                            f.writelines(filename)\n",
    "            if 't1.nii.gz' in m:\n",
    "                with open(configPath+typename+'Channels_t1.cfg',mode) as f:\n",
    "                        if mode != 'w':    \n",
    "                            f.writelines(filename)\n",
    "            if 'seg' in m:\n",
    "                with open(configPath+typename+'GtLabels.cfg',mode) as f:\n",
    "                    if mode != 'w':\n",
    "                        f.writelines(filename)\n",
    "            if ('brainmask' in m):\n",
    "                with open(configPath+typename+'RoiMasks.cfg',mode) as f:\n",
    "                    if mode != 'w':\n",
    "                        f.writelines(filename)\n",
    "                        \n",
    "    #setConfigFilesForsemiSupervisedLearning(trainConfigPath)"
   ]
  },
  {
   "cell_type": "code",
   "execution_count": 15,
   "metadata": {},
   "outputs": [],
   "source": [
    "trainConfigPath = 'wenhuicui/deepmedic-master/examples/configFiles/deepMedic/train/'\n",
    "valConfigPath = 'wenhuicui/deepmedic-master/examples/configFiles/deepMedic/train/validation/'\n",
    "testConfigPath = 'wenhuicui/deepmedic-master/examples/configFiles/deepMedic/test/'\n",
    "typenames = ['train', 'validation', 'test']"
   ]
  },
  {
   "cell_type": "code",
   "execution_count": 16,
   "metadata": {},
   "outputs": [],
   "source": [
    "write2files(path, trainConfigPath, trainfiles, 'train', 'w')\n",
    "write2files(path, trainConfigPath, trainfiles, 'train', 'a')"
   ]
  },
  {
   "cell_type": "code",
   "execution_count": 20,
   "metadata": {},
   "outputs": [],
   "source": [
    "write2files(path, trainConfigPath, testfiles, 'train', 'a')"
   ]
  },
  {
   "cell_type": "code",
   "execution_count": 101,
   "metadata": {},
   "outputs": [],
   "source": [
    "setTDGtLabels(trainConfigPath)"
   ]
  },
  {
   "cell_type": "code",
   "execution_count": 81,
   "metadata": {},
   "outputs": [],
   "source": [
    "def write2Testfiles(path, configPath, files, typename, mode):\n",
    "    for t in files:\n",
    "        if ((typename == 'test') or (typename == 'validation')):\n",
    "            with open(configPath+typename+'NamesOfPredictions.cfg',mode) as f:\n",
    "                if mode != 'w':\n",
    "                    f.writelines('pred_'+t+'.nii.gz'+'\\n')\n",
    "        \n",
    "        #print(t)\n",
    "        modalities = os.listdir(path+'/'+typename+'/'+t)\n",
    "        for m in modalities:\n",
    "            #print(m)\n",
    "            modnames = ['t1c', 't2', 'flair']\n",
    "            filename = '../../../mydata/'+typename+'/'+t+'/'+m+'\\n'\n",
    "        \n",
    "            \n",
    "            for name in modnames:\n",
    "                if name in m:\n",
    "                    with open(configPath+typename+'Channels_'+name+'.cfg',mode) as f:\n",
    "                        if mode != 'w':\n",
    "                            f.writelines(filename)\n",
    "            if 't1.nii.gz' in m:\n",
    "                with open(configPath+typename+'Channels_t1.cfg',mode) as f:\n",
    "                        if mode != 'w':    \n",
    "                            f.writelines(filename)\n",
    "            if 'seg' in m:\n",
    "                with open(configPath+typename+'GtLabels.cfg',mode) as f:\n",
    "                    if mode != 'w':\n",
    "                        f.writelines(filename)\n",
    "            if ('brainmask' in m):\n",
    "                with open(configPath+typename+'RoiMasks.cfg',mode) as f:\n",
    "                    if mode != 'w':\n",
    "                        f.writelines(filename)                \n",
    "    #setConfigFilesForsemiSupervisedLearning(trainConfigPath)"
   ]
  },
  {
   "cell_type": "code",
   "execution_count": 82,
   "metadata": {},
   "outputs": [],
   "source": [
    "write2Testfiles(path, testConfigPath, testfiles, 'test', 'w')"
   ]
  },
  {
   "cell_type": "code",
   "execution_count": 83,
   "metadata": {},
   "outputs": [],
   "source": [
    "write2Testfiles(path, testConfigPath, testfiles, 'test', 'a')"
   ]
  },
  {
   "cell_type": "code",
   "execution_count": null,
   "metadata": {},
   "outputs": [],
   "source": []
  },
  {
   "cell_type": "code",
   "execution_count": 84,
   "metadata": {},
   "outputs": [
    {
     "data": {
      "text/plain": [
       "166"
      ]
     },
     "execution_count": 84,
     "metadata": {},
     "output_type": "execute_result"
    }
   ],
   "source": [
    "with open(trainConfigPath+\"TDtrainGtLabels.cfg\", 'r') as f:\n",
    "    con = f.readlines()\n",
    "len(con)"
   ]
  },
  {
   "cell_type": "code",
   "execution_count": 143,
   "metadata": {},
   "outputs": [],
   "source": [
    "def writeStrokeData(dataPath, configPath):\n",
    "    allData = os.listdir(dataPath)\n",
    "    \n",
    "    for i in range(len(allData)):\n",
    "        files = os.listdir(dataPath + '/' + allData[i])\n",
    "        \n",
    "        if i < 20:\n",
    "            continue\n",
    "        if i >= 20 and i < 30:\n",
    "            typename = 'train'\n",
    "            typename1 = 'TDtrain'\n",
    "        if i >= 30:\n",
    "            continue\n",
    "            \n",
    "        for fi in files:\n",
    "            if 'img' in fi:\n",
    "                with open(configPath+typename+ '/' + typename1+'strokeLabeled10.cfg','a+') as f:\n",
    "                    #continue\n",
    "                    f.writelines(dataPath + '/' + allData[i] + '/' + fi + '\\n')\n",
    "            if 'brainmask' in fi:\n",
    "                with open(configPath+typename+ '/' + typename1 + 'strokeRoiMasks10.cfg','a+') as f:\n",
    "                    #continue\n",
    "                    f.writelines(dataPath + '/' + allData[i] + '/' + fi + '\\n')\n",
    "            if 'seg' in fi:\n",
    "                with open(configPath+typename+ '/' + typename1 + 'strokeGtLabels10.cfg','a+') as f:\n",
    "                    #continue\n",
    "                    f.writelines(dataPath + '/' + allData[i] + '/' + fi + '\\n')"
   ]
  },
  {
   "cell_type": "code",
   "execution_count": 144,
   "metadata": {},
   "outputs": [],
   "source": [
    "ConfigPath = 'wenhuicui/deepmedic-master/examples/configFiles/deepMedic/'"
   ]
  },
  {
   "cell_type": "code",
   "execution_count": 145,
   "metadata": {},
   "outputs": [],
   "source": [
    "writeStrokeData('/data/wenhuicui/stroke/labeled_train', ConfigPath)"
   ]
  },
  {
   "cell_type": "code",
   "execution_count": 137,
   "metadata": {},
   "outputs": [],
   "source": [
    "def writeNamesofPredictions(configPath, dataPath):\n",
    "    \n",
    "    allData = os.listdir(dataPath)\n",
    "    \n",
    "    for i in range(len(allData)):\n",
    "        #print(i)\n",
    "        if i < 30:\n",
    "            continue\n",
    "       \n",
    "        with open(configPath + 'test/testStrokeNamesOfPredictions.cfg', 'a+') as f:\n",
    "            f.writelines('pred_' + allData[i] + '.nii.gz' + '\\n')\n",
    "            #continue"
   ]
  },
  {
   "cell_type": "code",
   "execution_count": 138,
   "metadata": {},
   "outputs": [],
   "source": [
    "writeNamesofPredictions(ConfigPath, '/data/wenhuicui/stroke/labeled_train')"
   ]
  },
  {
   "cell_type": "code",
   "execution_count": 2,
   "metadata": {},
   "outputs": [
    {
     "data": {
      "text/plain": [
       "50"
      ]
     },
     "execution_count": 2,
     "metadata": {},
     "output_type": "execute_result"
    }
   ],
   "source": [
    "len(os.listdir('/data/wenhuicui/stroke/labeled_train'))"
   ]
  },
  {
   "cell_type": "code",
   "execution_count": 57,
   "metadata": {},
   "outputs": [],
   "source": [
    "# presegmentation for unlabeled data!!!!!!!!!!!!\n",
    "def writeTestFiles(configPath, dataPath):\n",
    "    allData = os.listdir(dataPath)\n",
    "    \n",
    "    for i in range(len(allData)):\n",
    "        files = os.listdir(dataPath + '/' + allData[i])\n",
    "        typename = 'test'\n",
    "        \n",
    "        with open(configPath + 'test/testStrokeNamesOfPredictions_preseg.cfg', 'a+') as f:\n",
    "            f.writelines('pred_' + allData[i] + '.nii.gz' + '\\n')\n",
    "            \n",
    "        for fi in files:\n",
    "            if 'img' in fi:\n",
    "                with open(configPath+typename+ '/' + typename+'strokeLabeled_preseg.cfg','a+') as f:\n",
    "                    #continue\n",
    "                    f.writelines(dataPath + '/' + allData[i] + '/' + fi + '\\n')\n",
    "            if 'brainmask' in fi:\n",
    "                with open(configPath+typename+ '/' + typename + 'strokeRoiMasks_preseg.cfg','a+') as f:\n",
    "                    #continue\n",
    "                    f.writelines(dataPath + '/' + allData[i] + '/' + fi + '\\n')\n",
    "            #if 'seg' in fi:\n",
    "            #    with open(configPath+typename+ '/' + typename + 'strokeGtLabels.cfg','a+') as f:\n",
    "                    #continue\n",
    "            #        f.writelines(dataPath + '/' + allData[i] + '/' + fi + '\\n')"
   ]
  },
  {
   "cell_type": "code",
   "execution_count": 58,
   "metadata": {},
   "outputs": [],
   "source": [
    "writeTestFiles(ConfigPath, '/data/wenhuicui/stroke/unlabeled_train')"
   ]
  },
  {
   "cell_type": "code",
   "execution_count": null,
   "metadata": {},
   "outputs": [],
   "source": []
  },
  {
   "cell_type": "code",
   "execution_count": 129,
   "metadata": {},
   "outputs": [],
   "source": [
    "def writeUnlabeledStrokeData(dataPath, configPath):\n",
    "    allData = os.listdir(dataPath)\n",
    "    \n",
    "    for i in range(len(allData)):\n",
    "        files = os.listdir(dataPath + '/' + allData[i])\n",
    "        typename = 'train'\n",
    "            \n",
    "        for fi in files:\n",
    "            if 'img' in fi:\n",
    "                with open(configPath+typename+ '/TD' + typename+'strokeLabeled10.cfg','a+') as f:\n",
    "                    #continue\n",
    "                    f.writelines(dataPath + '/' + allData[i] + '/' + fi + '\\n')\n",
    "            if 'brainmask' in fi:\n",
    "                with open(configPath+typename+ '/TD' + typename + 'strokeRoiMasks10.cfg','a+') as f:\n",
    "                    #continue\n",
    "                    f.writelines(dataPath + '/' + allData[i] + '/' + fi + '\\n')\n",
    "            if 'seg' in fi:\n",
    "                with open(configPath+typename+ '/TD' + typename + 'strokeGtLabels10.cfg','a+') as f:\n",
    "                    #continue\n",
    "                    f.writelines(dataPath + '/' + allData[i] + '/' + fi + '\\n')"
   ]
  },
  {
   "cell_type": "code",
   "execution_count": 130,
   "metadata": {},
   "outputs": [],
   "source": [
    "writeUnlabeledStrokeData('/data/wenhuicui/stroke/unlabeled_train', ConfigPath)"
   ]
  },
  {
   "cell_type": "code",
   "execution_count": 82,
   "metadata": {},
   "outputs": [],
   "source": [
    "def writeUnlabeledStrokeDataWP(dataPath, configPath):\n",
    "    allData = os.listdir(dataPath)\n",
    "    \n",
    "    for i in range(len(allData)):\n",
    "        files = os.listdir(dataPath + '/' + allData[i])\n",
    "        typename = 'train'\n",
    "            \n",
    "        for fi in files:\n",
    "            if 'weightMap0' in fi:\n",
    "                print('hah')\n",
    "                with open(configPath+typename + '/weightMapsForeground.cfg', 'a+') as f:\n",
    "                    #continue\n",
    "                    f.writelines(dataPath + '/' + allData[i] + '/' + fi + '\\n')\n",
    "            if 'weightMap1' in fi:\n",
    "                with open(configPath + typename + '/weightMapsBackground.cfg','a+') as f:\n",
    "                    #continue\n",
    "                    f.writelines(dataPath + '/' + allData[i] + '/' + fi + '\\n')\n",
    "            #if 'seg' in fi:\n",
    "            #   with open(configPath+typename+ '/TD' + typename + 'strokeGtLabels.cfg','a+') as f:\n",
    "                    #continue\n",
    "            #        f.writelines(dataPath + '/TD' + allData[i] + '/' + fi + '\\n')"
   ]
  },
  {
   "cell_type": "code",
   "execution_count": 83,
   "metadata": {},
   "outputs": [
    {
     "name": "stdout",
     "output_type": "stream",
     "text": [
      "hah\n",
      "hah\n",
      "hah\n",
      "hah\n",
      "hah\n",
      "hah\n",
      "hah\n",
      "hah\n",
      "hah\n",
      "hah\n",
      "hah\n",
      "hah\n",
      "hah\n",
      "hah\n",
      "hah\n",
      "hah\n",
      "hah\n",
      "hah\n",
      "hah\n",
      "hah\n",
      "hah\n",
      "hah\n",
      "hah\n",
      "hah\n",
      "hah\n",
      "hah\n",
      "hah\n",
      "hah\n",
      "hah\n",
      "hah\n",
      "hah\n",
      "hah\n",
      "hah\n",
      "hah\n",
      "hah\n",
      "hah\n",
      "hah\n",
      "hah\n",
      "hah\n",
      "hah\n",
      "hah\n",
      "hah\n",
      "hah\n",
      "hah\n",
      "hah\n",
      "hah\n",
      "hah\n",
      "hah\n",
      "hah\n",
      "hah\n",
      "hah\n",
      "hah\n",
      "hah\n",
      "hah\n",
      "hah\n",
      "hah\n",
      "hah\n",
      "hah\n",
      "hah\n",
      "hah\n",
      "hah\n",
      "hah\n",
      "hah\n",
      "hah\n",
      "hah\n",
      "hah\n",
      "hah\n",
      "hah\n",
      "hah\n",
      "hah\n",
      "hah\n",
      "hah\n",
      "hah\n",
      "hah\n",
      "hah\n",
      "hah\n",
      "hah\n",
      "hah\n",
      "hah\n",
      "hah\n",
      "hah\n",
      "hah\n",
      "hah\n",
      "hah\n",
      "hah\n",
      "hah\n",
      "hah\n",
      "hah\n",
      "hah\n",
      "hah\n",
      "hah\n",
      "hah\n",
      "hah\n",
      "hah\n",
      "hah\n",
      "hah\n",
      "hah\n",
      "hah\n",
      "hah\n",
      "hah\n",
      "hah\n",
      "hah\n",
      "hah\n",
      "hah\n",
      "hah\n",
      "hah\n",
      "hah\n",
      "hah\n",
      "hah\n",
      "hah\n",
      "hah\n",
      "hah\n",
      "hah\n",
      "hah\n",
      "hah\n",
      "hah\n",
      "hah\n",
      "hah\n",
      "hah\n",
      "hah\n",
      "hah\n",
      "hah\n",
      "hah\n",
      "hah\n",
      "hah\n",
      "hah\n",
      "hah\n",
      "hah\n",
      "hah\n",
      "hah\n",
      "hah\n",
      "hah\n",
      "hah\n",
      "hah\n",
      "hah\n",
      "hah\n",
      "hah\n",
      "hah\n",
      "hah\n",
      "hah\n",
      "hah\n",
      "hah\n",
      "hah\n",
      "hah\n",
      "hah\n",
      "hah\n",
      "hah\n",
      "hah\n",
      "hah\n",
      "hah\n",
      "hah\n",
      "hah\n",
      "hah\n",
      "hah\n",
      "hah\n",
      "hah\n",
      "hah\n",
      "hah\n",
      "hah\n",
      "hah\n",
      "hah\n",
      "hah\n",
      "hah\n",
      "hah\n",
      "hah\n",
      "hah\n",
      "hah\n",
      "hah\n",
      "hah\n",
      "hah\n",
      "hah\n",
      "hah\n",
      "hah\n",
      "hah\n",
      "hah\n",
      "hah\n",
      "hah\n",
      "hah\n",
      "hah\n",
      "hah\n",
      "hah\n",
      "hah\n",
      "hah\n",
      "hah\n",
      "hah\n",
      "hah\n",
      "hah\n",
      "hah\n",
      "hah\n",
      "hah\n",
      "hah\n",
      "hah\n",
      "hah\n",
      "hah\n",
      "hah\n",
      "hah\n"
     ]
    }
   ],
   "source": [
    "writeUnlabeledStrokeDataWP('/data/wenhuicui/stroke/unlabeled_train', ConfigPath)"
   ]
  },
  {
   "cell_type": "code",
   "execution_count": null,
   "metadata": {},
   "outputs": [],
   "source": [
    "def Xval_files():\n",
    "    '''3-fold, cross validation, 5 for validation, 15 for test, 30 for training\n",
    "    '''\n",
    "    allData = os.listdir(dataPath)\n",
    "    \n",
    "    for i in range(len(allData)):\n",
    "        files = os.listdir(dataPath + '/' + allData[i])\n",
    "        \n",
    "        if i < 20:\n",
    "            continue\n",
    "        if i >= 20 and i < 30:\n",
    "            typename = 'train'\n",
    "            typename1 = 'TDtrain'\n",
    "        if i >= 30:\n",
    "            continue\n",
    "            \n",
    "        for fi in files:\n",
    "            if 'img' in fi:\n",
    "                with open(configPath+typename+ '/' + typename1+'strokeLabeled30.cfg','a+') as f:\n",
    "                    #continue\n",
    "                    f.writelines(dataPath + '/' + allData[i] + '/' + fi + '\\n')\n",
    "            if 'brainmask' in fi:\n",
    "                with open(configPath+typename+ '/' + typename1 + 'strokeRoiMasks30.cfg','a+') as f:\n",
    "                    #continue\n",
    "                    f.writelines(dataPath + '/' + allData[i] + '/' + fi + '\\n')\n",
    "            if 'seg' in fi:\n",
    "                with open(configPath+typename+ '/' + typename1 + 'strokeGtLabels30.cfg','a+') as f:\n",
    "                    #continue\n",
    "                    f.writelines(dataPath + '/' + allData[i] + '/' + fi + '\\n')"
   ]
  }
 ],
 "metadata": {
  "kernelspec": {
   "display_name": "Python 2",
   "language": "python",
   "name": "python2"
  },
  "language_info": {
   "codemirror_mode": {
    "name": "ipython",
    "version": 2
   },
   "file_extension": ".py",
   "mimetype": "text/x-python",
   "name": "python",
   "nbconvert_exporter": "python",
   "pygments_lexer": "ipython2",
   "version": "2.7.15"
  }
 },
 "nbformat": 4,
 "nbformat_minor": 2
}
